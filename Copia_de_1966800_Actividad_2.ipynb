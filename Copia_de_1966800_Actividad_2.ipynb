{
  "nbformat": 4,
  "nbformat_minor": 0,
  "metadata": {
    "colab": {
      "provenance": [],
      "include_colab_link": true
    },
    "kernelspec": {
      "name": "python3",
      "display_name": "Python 3"
    },
    "language_info": {
      "name": "python"
    }
  },
  "cells": [
    {
      "cell_type": "markdown",
      "metadata": {
        "id": "view-in-github",
        "colab_type": "text"
      },
      "source": [
        "<a href=\"https://colab.research.google.com/github/1966800SotoNaydellin/Inteligencia-Artificial/blob/main/Copia_de_1966800_Actividad_2.ipynb\" target=\"_parent\"><img src=\"https://colab.research.google.com/assets/colab-badge.svg\" alt=\"Open In Colab\"/></a>"
      ]
    },
    {
      "cell_type": "code",
      "execution_count": null,
      "metadata": {
        "colab": {
          "base_uri": "https://localhost:8080/",
          "height": 35
        },
        "id": "IT5FfqMC1rds",
        "outputId": "1fbeab08-00e8-42e9-c3bf-6615508c04e8"
      },
      "outputs": [
        {
          "output_type": "execute_result",
          "data": {
            "text/plain": [
              "'\\nNombre:Naydellin Ivonne Soto Villegas \\nMatricula: 1966800\\nHora:N1\\nActividad 2: Diseño de algoritmos en Python\\n'"
            ],
            "application/vnd.google.colaboratory.intrinsic+json": {
              "type": "string"
            }
          },
          "metadata": {},
          "execution_count": 1
        }
      ],
      "source": []
    },
    {
      "cell_type": "code",
      "source": [],
      "metadata": {
        "id": "FHNuZOd6_gAO"
      },
      "execution_count": null,
      "outputs": []
    },
    {
      "cell_type": "code",
      "source": [
        "def saludar():\n",
        "    # Pedir al usuario que ingrese su nombre\n",
        "    nombre = input(\"Por favor, introduce tu nombre: \")\n",
        "\n",
        "    # Verificar si el nombre está en la lista de nombres especiales\n",
        "    if nombre.lower() in [\"ana\", \"juan\", \"pedro\"]:\n",
        "        print(\"Hola, bienvenido/a!\")\n",
        "    else:\n",
        "        # Saludar utilizando el nombre ingresado\n",
        "        print(\"Hola,\", nombre + \"!\")\n",
        "\n",
        "# Llamar a la función para saludar al usuario\n",
        "saludar()\n"
      ],
      "metadata": {
        "colab": {
          "base_uri": "https://localhost:8080/"
        },
        "id": "hsYo6tYq2zY9",
        "outputId": "6a6b1764-b8ee-4ff4-e2fe-e10a8063ab4d"
      },
      "execution_count": null,
      "outputs": [
        {
          "output_type": "stream",
          "name": "stdout",
          "text": [
            "Por favor, introduce tu nombre: pedro\n",
            "Hola, bienvenido/a!\n"
          ]
        }
      ]
    },
    {
      "cell_type": "code",
      "source": [
        "def invertir_lista():\n",
        "    # Pedir al usuario que ingrese el número de elementos de la lista\n",
        "    n = int(input(\"Ingrese el número de elementos de la lista: \"))\n",
        "\n",
        "    # Pedir al usuario que ingrese los elementos de la lista\n",
        "    lista = []\n",
        "    for i in range(n):\n",
        "        elemento = input(f\"Ingrese el elemento {i+1}: \")\n",
        "        lista.append(elemento)\n",
        "\n",
        "    # Invertir el orden de la lista\n",
        "    lista_invertida = lista[::-1]\n",
        "\n",
        "    # Imprimir la lista invertida\n",
        "    print(\"Lista invertida:\", lista_invertida)\n",
        "\n",
        "# Llamar a la función para invertir la lista\n",
        "invertir_lista()"
      ],
      "metadata": {
        "colab": {
          "base_uri": "https://localhost:8080/"
        },
        "id": "5V6Fz-t23ndm",
        "outputId": "1c2d946b-366c-484b-fe8b-b92488db06b6"
      },
      "execution_count": null,
      "outputs": [
        {
          "output_type": "stream",
          "name": "stdout",
          "text": [
            "Ingrese el número de elementos de la lista: 4\n",
            "Ingrese el elemento 1: huevo\n",
            "Ingrese el elemento 2: jamon\n",
            "Ingrese el elemento 3: queso\n",
            "Ingrese el elemento 4: fresa\n",
            "Lista invertida: ['fresa', 'queso', 'jamon', 'huevo']\n"
          ]
        }
      ]
    },
    {
      "cell_type": "code",
      "source": [
        "def fibonacci(n):\n",
        "    fib = [0, 1]  # Inicializamos la lista de Fibonacci con los dos primeros números\n",
        "    for i in range(2, n):\n",
        "        fib.append(fib[i-1] + fib[i-2])  # Generamos el siguiente número de Fibonacci\n",
        "    return fib\n",
        "\n",
        "def main():\n",
        "    # Pedir al usuario cuántos números de la serie de Fibonacci quiere generar\n",
        "    cantidad_numeros = int(input(\"¿Cuántos números de la serie de Fibonacci quieres generar? \"))\n",
        "\n",
        "    # Generar la serie de Fibonacci\n",
        "    serie_fibonacci = fibonacci(cantidad_numeros)\n",
        "\n",
        "    # Imprimir la serie de Fibonacci\n",
        "    print(\"Serie de Fibonacci:\")\n",
        "    for numero in serie_fibonacci:\n",
        "        print(numero)\n",
        "\n",
        "# Llamar a la función principal\n",
        "main()\n"
      ],
      "metadata": {
        "colab": {
          "base_uri": "https://localhost:8080/"
        },
        "id": "LbJl9PU04CIS",
        "outputId": "c5199eb4-3eac-49c5-b921-e22f957d8da4"
      },
      "execution_count": null,
      "outputs": [
        {
          "output_type": "stream",
          "name": "stdout",
          "text": [
            "¿Cuántos números de la serie de Fibonacci quieres generar? 50\n",
            "Serie de Fibonacci:\n",
            "0\n",
            "1\n",
            "1\n",
            "2\n",
            "3\n",
            "5\n",
            "8\n",
            "13\n",
            "21\n",
            "34\n",
            "55\n",
            "89\n",
            "144\n",
            "233\n",
            "377\n",
            "610\n",
            "987\n",
            "1597\n",
            "2584\n",
            "4181\n",
            "6765\n",
            "10946\n",
            "17711\n",
            "28657\n",
            "46368\n",
            "75025\n",
            "121393\n",
            "196418\n",
            "317811\n",
            "514229\n",
            "832040\n",
            "1346269\n",
            "2178309\n",
            "3524578\n",
            "5702887\n",
            "9227465\n",
            "14930352\n",
            "24157817\n",
            "39088169\n",
            "63245986\n",
            "102334155\n",
            "165580141\n",
            "267914296\n",
            "433494437\n",
            "701408733\n",
            "1134903170\n",
            "1836311903\n",
            "2971215073\n",
            "4807526976\n",
            "7778742049\n"
          ]
        }
      ]
    },
    {
      "cell_type": "code",
      "source": [
        "import random\n",
        "\n",
        "def adivinar_numero():\n",
        "    # Generar un número aleatorio entre 1 y 100\n",
        "    numero_objetivo = random.randint(1, 100)\n",
        "\n",
        "    # Inicializar el contador de intentos\n",
        "    intentos = 0\n",
        "\n",
        "    # Comenzar el bucle de adivinanza\n",
        "    while True:\n",
        "        # Pedir al usuario que adivine el número\n",
        "        intento = int(input(\"Adivina el número (entre 1 y 100): \"))\n",
        "\n",
        "        # Incrementar el contador de intentos\n",
        "        intentos += 1\n",
        "\n",
        "        # Comprobar si el intento del usuario es correcto\n",
        "        if intento == numero_objetivo:\n",
        "            print(f\"¡Felicidades! Has adivinado el número {numero_objetivo} en {intentos} intentos.\")\n",
        "            break\n",
        "        elif intento < numero_objetivo:\n",
        "            print(\"El número es mayor.\")\n",
        "        else:\n",
        "            print(\"El número es menor.\")\n",
        "\n",
        "# Llamar a la función para iniciar el juego\n",
        "adivinar_numero()\n"
      ],
      "metadata": {
        "colab": {
          "base_uri": "https://localhost:8080/"
        },
        "id": "3RRsf17o4orz",
        "outputId": "81f538d3-99c5-495c-f94d-eecc1e962635"
      },
      "execution_count": null,
      "outputs": [
        {
          "output_type": "stream",
          "name": "stdout",
          "text": [
            "Adivina el número (entre 1 y 100): 110\n",
            "El número es menor.\n",
            "Adivina el número (entre 1 y 100): 80\n",
            "El número es menor.\n",
            "Adivina el número (entre 1 y 100): 50\n",
            "El número es mayor.\n",
            "Adivina el número (entre 1 y 100): 60\n",
            "El número es mayor.\n",
            "Adivina el número (entre 1 y 100): 70\n",
            "El número es mayor.\n",
            "Adivina el número (entre 1 y 100): 76\n",
            "El número es menor.\n",
            "Adivina el número (entre 1 y 100): 74\n",
            "El número es menor.\n",
            "Adivina el número (entre 1 y 100): 72\n",
            "El número es menor.\n",
            "Adivina el número (entre 1 y 100): 71\n",
            "¡Felicidades! Has adivinado el número 71 en 9 intentos.\n"
          ]
        }
      ]
    },
    {
      "cell_type": "code",
      "source": [
        "def es_primo(numero):\n",
        "    if numero <= 1:\n",
        "        return False\n",
        "    elif numero <= 3:\n",
        "        return True\n",
        "    elif numero % 2 == 0 or numero % 3 == 0:\n",
        "        return False\n",
        "    i = 5\n",
        "    while i * i <= numero:\n",
        "        if numero % i == 0 or numero % (i + 2) == 0:\n",
        "            return False\n",
        "        i += 6\n",
        "    return True\n",
        "\n",
        "def numeros_primos_en_rango(inicio, fin):\n",
        "    primos = []\n",
        "    for numero in range(inicio, fin + 1):\n",
        "        if es_primo(numero):\n",
        "            primos.append(numero)\n",
        "    return primos\n",
        "\n",
        "def main():\n",
        "    # Solicitar al usuario el rango de números\n",
        "    inicio = int(input(\"Introduce el número inicial del rango: \"))\n",
        "    fin = int(input(\"Introduce el número final del rango: \"))\n",
        "\n",
        "    # Encontrar los números primos en el rango dado\n",
        "    primos_en_rango = numeros_primos_en_rango(inicio, fin)\n",
        "\n",
        "    # Mostrar los números primos en el rango dado\n",
        "    print(f\"Números primos en el rango de {inicio} a {fin}:\")\n",
        "    if primos_en_rango:\n",
        "        print(primos_en_rango)\n",
        "    else:\n",
        "        print(\"No se encontraron números primos en este rango.\")\n",
        "\n",
        "# Llamar a la función principal\n",
        "main()\n"
      ],
      "metadata": {
        "colab": {
          "base_uri": "https://localhost:8080/"
        },
        "id": "Qli7F6-Y5A3s",
        "outputId": "e8a84c4d-beec-4206-f770-4bb2494cfd32"
      },
      "execution_count": null,
      "outputs": [
        {
          "output_type": "stream",
          "name": "stdout",
          "text": [
            "Introduce el número inicial del rango: 1\n",
            "Introduce el número final del rango: 100\n",
            "Números primos en el rango de 1 a 100:\n",
            "[2, 3, 5, 7, 11, 13, 17, 19, 23, 29, 31, 37, 41, 43, 47, 53, 59, 61, 67, 71, 73, 79, 83, 89, 97]\n"
          ]
        }
      ]
    },
    {
      "cell_type": "code",
      "source": [
        "def suma(a, b):\n",
        "    return a + b\n",
        "\n",
        "def resta(a, b):\n",
        "    return a - b\n",
        "\n",
        "def multiplicacion(a, b):\n",
        "    return a * b\n",
        "\n",
        "def division(a, b):\n",
        "    if b != 0:\n",
        "        return a / b\n",
        "    else:\n",
        "        return \"Error: división por cero\"\n",
        "\n",
        "def calculadora():\n",
        "    while True:\n",
        "        print(\"1. Suma\")\n",
        "        print(\"2. Resta\")\n",
        "        print(\"3. Multiplicación\")\n",
        "        print(\"4. División\")\n",
        "        print(\"5. Salir\")\n",
        "\n",
        "        opcion = input(\"Escoja una opción (1/2/3/4/5): \")\n",
        "\n",
        "        if opcion == '5':\n",
        "            print(\"¡Hasta luego!\")\n",
        "            break\n",
        "\n",
        "        num1 = float(input(\"Ingrese el primer número: \"))\n",
        "        num2 = float(input(\"Ingrese el segundo número: \"))\n",
        "\n",
        "        if opcion == '1':\n",
        "            print(\"Resultado:\", suma(num1, num2))\n",
        "        elif opcion == '2':\n",
        "            print(\"Resultado:\", resta(num1, num2))\n",
        "        elif opcion == '3':\n",
        "            print(\"Resultado:\", multiplicacion(num1, num2))\n",
        "        elif opcion == '4':\n",
        "            print(\"Resultado:\", division(num1, num2))\n",
        "        else:\n",
        "            print(\"Opción inválida. Por favor, elija una opción válida.\")\n",
        "\n",
        "calculadora()\n"
      ],
      "metadata": {
        "colab": {
          "base_uri": "https://localhost:8080/"
        },
        "id": "17GXaRq75tHO",
        "outputId": "c10aae57-f94a-48f7-fffa-c7c4999fd5d2"
      },
      "execution_count": null,
      "outputs": [
        {
          "output_type": "stream",
          "name": "stdout",
          "text": [
            "1. Suma\n",
            "2. Resta\n",
            "3. Multiplicación\n",
            "4. División\n",
            "5. Salir\n",
            "Escoja una opción (1/2/3/4/5): 2\n",
            "Ingrese el primer número: 4\n",
            "Ingrese el segundo número: 5\n",
            "Resultado: -1.0\n",
            "1. Suma\n",
            "2. Resta\n",
            "3. Multiplicación\n",
            "4. División\n",
            "5. Salir\n",
            "Escoja una opción (1/2/3/4/5): 3\n",
            "Ingrese el primer número: 1\n",
            "Ingrese el segundo número: 6\n",
            "Resultado: 6.0\n",
            "1. Suma\n",
            "2. Resta\n",
            "3. Multiplicación\n",
            "4. División\n",
            "5. Salir\n",
            "Escoja una opción (1/2/3/4/5): 5\n",
            "¡Hasta luego!\n"
          ]
        }
      ]
    }
  ]
}